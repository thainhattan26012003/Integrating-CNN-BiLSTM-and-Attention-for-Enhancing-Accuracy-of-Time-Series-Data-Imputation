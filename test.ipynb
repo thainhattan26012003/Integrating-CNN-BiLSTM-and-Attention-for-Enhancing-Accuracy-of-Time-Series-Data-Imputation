{
 "cells": [
  {
   "cell_type": "code",
   "execution_count": null,
   "metadata": {},
   "outputs": [],
   "source": [
    "import numpy as np\n",
    "import pandas as pd\n",
    "\n",
    "# Example data with NaNs (missing values)\n",
    "data = np.array([1, 2, np.nan, np.nan, np.nan, 6, 7, np.nan, 9])\n",
    "\n",
    "# Convert data to pandas Series for easier manipulation\n",
    "series = pd.Series(data)\n",
    "\n",
    "# Step 1: Identify missing values (NaNs)\n",
    "missing_mask = series.isna()\n",
    "\n",
    "# Find the indices of missing values\n",
    "missing_indices = series[missing_mask].index\n",
    "\n",
    "# Step 2: Identify Gaps (groups of consecutive missing values)\n",
    "gaps = []\n",
    "current_gap = []\n",
    "for i, idx in enumerate(missing_indices):\n",
    "    if i == 0 or idx == missing_indices[i-1] + 1:\n",
    "        current_gap.append(idx)\n",
    "    else:\n",
    "        if current_gap:\n",
    "            gaps.append(current_gap)\n",
    "        current_gap = [idx]\n",
    "if current_gap:\n",
    "    gaps.append(current_gap)\n",
    "\n",
    "# Step 3: Impute Missing by Point (Interpolate single missing points)\n",
    "# First, fill missing by point with forward fill or interpolation\n",
    "# Forward Fill or Interpolation for isolated points\n",
    "series_filled_by_point = series.copy()\n",
    "for gap in gaps:\n",
    "    if len(gap) == 1:  # Only a single missing point\n",
    "        series_filled_by_point[gap[0]] = series[gap[0]-1]  # Forward fill using previous value\n",
    "\n",
    "# Check after filling missing by point\n",
    "print(\"After filling missing by point:\")\n",
    "print(series_filled_by_point)\n",
    "\n",
    "# Step 4: Impute Missing by Gap (Interpolate for the gaps)\n",
    "# Now that the missing-by-point values are handled, let's fill the gaps\n",
    "# Fill missing values across the gaps (using linear interpolation)\n",
    "series_filled_gap = series_filled_by_point.interpolate(method='linear')\n",
    "\n",
    "# Final result after interpolation\n",
    "print(\"\\nAfter filling missing by gap:\")\n",
    "print(series_filled_gap)\n"
   ]
  },
  {
   "cell_type": "code",
   "execution_count": null,
   "metadata": {},
   "outputs": [],
   "source": [
    "import pandas as pd \n",
    " "
   ]
  },
  {
   "cell_type": "code",
   "execution_count": 3,
   "metadata": {},
   "outputs": [
    {
     "data": {
      "text/html": [
       "<div>\n",
       "<style scoped>\n",
       "    .dataframe tbody tr th:only-of-type {\n",
       "        vertical-align: middle;\n",
       "    }\n",
       "\n",
       "    .dataframe tbody tr th {\n",
       "        vertical-align: top;\n",
       "    }\n",
       "\n",
       "    .dataframe thead th {\n",
       "        text-align: right;\n",
       "    }\n",
       "</style>\n",
       "<table border=\"1\" class=\"dataframe\">\n",
       "  <thead>\n",
       "    <tr style=\"text-align: right;\">\n",
       "      <th></th>\n",
       "      <th>Observation</th>\n",
       "    </tr>\n",
       "  </thead>\n",
       "  <tbody>\n",
       "    <tr>\n",
       "      <th>1</th>\n",
       "      <td>2.84</td>\n",
       "    </tr>\n",
       "    <tr>\n",
       "      <th>2</th>\n",
       "      <td>3.81</td>\n",
       "    </tr>\n",
       "    <tr>\n",
       "      <th>3</th>\n",
       "      <td>3.17</td>\n",
       "    </tr>\n",
       "    <tr>\n",
       "      <th>4</th>\n",
       "      <td>2.27</td>\n",
       "    </tr>\n",
       "    <tr>\n",
       "      <th>5</th>\n",
       "      <td>1.53</td>\n",
       "    </tr>\n",
       "  </tbody>\n",
       "</table>\n",
       "</div>"
      ],
      "text/plain": [
       "  Observation\n",
       "1        2.84\n",
       "2        3.81\n",
       "3        3.17\n",
       "4        2.27\n",
       "5        1.53"
      ]
     },
     "execution_count": 3,
     "metadata": {},
     "output_type": "execute_result"
    }
   ],
   "source": [
    "df = pd.read_excel('P:\\FA24\\Paper_code\\GWM_NOAA-202001-202004\\DATA__AKITA.xlsx')\n",
    "df = pd.DataFrame(df)\n",
    "df = df.iloc[1: ,1:2]\n",
    "df.head()"
   ]
  },
  {
   "cell_type": "code",
   "execution_count": 4,
   "metadata": {},
   "outputs": [],
   "source": [
    "df.to_csv('test.csv', index=False)"
   ]
  },
  {
   "cell_type": "code",
   "execution_count": null,
   "metadata": {},
   "outputs": [],
   "source": [
    "import numpy as np\n",
    "import pandas as pd\n",
    "\n",
    "\n",
    "column_name = 'Observation'\n",
    "\n",
    "missing_mask = df[column_name].isna()\n",
    "\n",
    "missing_indices = df[missing_mask].index\n",
    "\n",
    "gaps = []\n",
    "current_gap = []\n",
    "for i, idx in enumerate(missing_indices):\n",
    "    if i == 0 or idx == missing_indices[i-1] + 1:\n",
    "        current_gap.append(idx)\n",
    "    else:\n",
    "        if current_gap:\n",
    "            gaps.append(current_gap)\n",
    "        current_gap = [idx]\n",
    "if current_gap:\n",
    "    gaps.append(current_gap)\n",
    "\n",
    "df_filled_by_point = df.copy() \n",
    "for gap in gaps:\n",
    "    if len(gap) == 1:  \n",
    "        df_filled_by_point.at[gap[0], column_name] = df.at[gap[0]-1, column_name] \n",
    "\n",
    "\n",
    "df_filled_gap = df_filled_by_point.copy()  \n",
    "df_filled_gap[column_name] = df_filled_gap[column_name].interpolate(method='linear')"
   ]
  },
  {
   "cell_type": "code",
   "execution_count": 60,
   "metadata": {},
   "outputs": [
    {
     "name": "stdout",
     "output_type": "stream",
     "text": [
      "object\n"
     ]
    }
   ],
   "source": [
    "print(df['Observation'].dtype)"
   ]
  },
  {
   "cell_type": "code",
   "execution_count": null,
   "metadata": {},
   "outputs": [],
   "source": []
  },
  {
   "cell_type": "code",
   "execution_count": 1,
   "metadata": {},
   "outputs": [
    {
     "data": {
      "text/html": [
       "<div>\n",
       "<style scoped>\n",
       "    .dataframe tbody tr th:only-of-type {\n",
       "        vertical-align: middle;\n",
       "    }\n",
       "\n",
       "    .dataframe tbody tr th {\n",
       "        vertical-align: top;\n",
       "    }\n",
       "\n",
       "    .dataframe thead th {\n",
       "        text-align: right;\n",
       "    }\n",
       "</style>\n",
       "<table border=\"1\" class=\"dataframe\">\n",
       "  <thead>\n",
       "    <tr style=\"text-align: right;\">\n",
       "      <th></th>\n",
       "      <th>Observation</th>\n",
       "    </tr>\n",
       "  </thead>\n",
       "  <tbody>\n",
       "    <tr>\n",
       "      <th>1</th>\n",
       "      <td>2.84</td>\n",
       "    </tr>\n",
       "    <tr>\n",
       "      <th>2</th>\n",
       "      <td>3.81</td>\n",
       "    </tr>\n",
       "    <tr>\n",
       "      <th>3</th>\n",
       "      <td>3.17</td>\n",
       "    </tr>\n",
       "    <tr>\n",
       "      <th>4</th>\n",
       "      <td>2.27</td>\n",
       "    </tr>\n",
       "    <tr>\n",
       "      <th>5</th>\n",
       "      <td>1.53</td>\n",
       "    </tr>\n",
       "  </tbody>\n",
       "</table>\n",
       "</div>"
      ],
      "text/plain": [
       "   Observation\n",
       "1         2.84\n",
       "2         3.81\n",
       "3         3.17\n",
       "4         2.27\n",
       "5         1.53"
      ]
     },
     "execution_count": 1,
     "metadata": {},
     "output_type": "execute_result"
    }
   ],
   "source": [
    "import numpy as np\n",
    "import pandas as pd\n",
    "\n",
    "\n",
    "df = pd.read_excel('P:\\FA24\\Paper_code\\GWM_NOAA-202001-202004\\DATA__AKITA.xlsx')\n",
    "# df = pd.DataFrame(df)\n",
    "df = df.iloc[1:, 1:2]\n",
    "df = df.apply(pd.to_numeric, errors='coerce')\n",
    "df.head()\n"
   ]
  },
  {
   "cell_type": "code",
   "execution_count": null,
   "metadata": {},
   "outputs": [],
   "source": [
    "import numpy as np\n",
    "import pandas as pd\n",
    "\n",
    "\n",
    "column_name = 'Observation'\n",
    "\n",
    "missing_mask = df[column_name].isna()\n",
    "\n",
    "missing_indices = df[missing_mask].index\n",
    "\n",
    "gaps = []\n",
    "current_gap = []\n",
    "for i, idx in enumerate(missing_indices):\n",
    "    if i == 0 or idx == missing_indices[i-1] + 1:\n",
    "        current_gap.append(idx)\n",
    "    else:\n",
    "        if current_gap:\n",
    "            gaps.append(current_gap)\n",
    "        current_gap = [idx]\n",
    "if current_gap:\n",
    "    gaps.append(current_gap)\n",
    "\n",
    "df_filled_by_point = df.copy() \n",
    "for gap in gaps:\n",
    "    if len(gap) == 1:  \n",
    "        df_filled_by_point.at[gap[0], column_name] = df.at[gap[0]-1, column_name] \n"
   ]
  },
  {
   "cell_type": "code",
   "execution_count": null,
   "metadata": {},
   "outputs": [],
   "source": [
    "df_filled_by_point.to_csv('filled_data.csv', index=False)"
   ]
  },
  {
   "cell_type": "code",
   "execution_count": null,
   "metadata": {},
   "outputs": [],
   "source": []
  },
  {
   "cell_type": "code",
   "execution_count": 2,
   "metadata": {},
   "outputs": [
    {
     "name": "stdout",
     "output_type": "stream",
     "text": [
      "    Observation\n",
      "31         0.80\n",
      "32         1.14\n",
      "33         1.77\n",
      "34         1.21\n",
      "35         0.83\n",
      "36         0.40\n",
      "37         0.38\n",
      "38         0.40\n",
      "39         3.30\n",
      "40         1.88\n",
      "41         2.18\n",
      "42         2.17\n",
      "43         2.17\n",
      "44         0.78\n",
      "45         1.01\n",
      "46         0.71\n",
      "47         0.51\n",
      "48         1.33\n",
      "49         1.90\n",
      "50         1.25\n",
      "51         0.60\n",
      "52         0.55\n",
      "53         0.54\n",
      "54         0.35\n",
      "55         0.30\n",
      "56         0.60\n",
      "57         0.29\n",
      "58         0.29\n",
      "59         0.35\n",
      "60         1.54\n"
     ]
    }
   ],
   "source": [
    "import pandas as pd\n",
    "import numpy as np\n",
    "\n",
    "# # Dữ liệu ban đầu\n",
    "# data = [1, 2, 3, np.nan, 4, 5, np.nan, np.nan, np.nan, 4, 3, 2, 6, 7, np.nan, np.nan, np.nan, np.nan, np.nan, np.nan, 9, 10, 11, 12]\n",
    "\n",
    "# # Tạo DataFrame\n",
    "# df = pd.DataFrame(data, columns=['Value'])\n",
    "\n",
    "# Xác định các khoảng trống nhỏ hơn hoặc bằng 3 và áp dụng interpolation\n",
    "start = 0\n",
    "while start < len(df):\n",
    "    if pd.isna(df.iloc[start, 0]):\n",
    "        # Tìm điểm kết thúc của khoảng trống\n",
    "        end = start\n",
    "        while end < len(df) and pd.isna(df.iloc[end, 0]):\n",
    "            end += 1\n",
    "        \n",
    "        # Kiểm tra nếu gap <= 3 và áp dụng interpolation\n",
    "        if end - start <= 3:\n",
    "            df.iloc[start:end] = df.iloc[start-1:end].interpolate(method='linear').iloc[1:]  # interpolate linearly\n",
    "\n",
    "        # Cập nhật vị trí tiếp theo để tiếp tục tìm khoảng trống kế tiếp\n",
    "        start = end\n",
    "    else:\n",
    "        start += 1\n",
    "\n",
    "# In kết quả\n",
    "print(df[30:60])\n"
   ]
  }
 ],
 "metadata": {
  "kernelspec": {
   "display_name": "env",
   "language": "python",
   "name": "python3"
  },
  "language_info": {
   "codemirror_mode": {
    "name": "ipython",
    "version": 3
   },
   "file_extension": ".py",
   "mimetype": "text/x-python",
   "name": "python",
   "nbconvert_exporter": "python",
   "pygments_lexer": "ipython3",
   "version": "3.11.7"
  }
 },
 "nbformat": 4,
 "nbformat_minor": 2
}
